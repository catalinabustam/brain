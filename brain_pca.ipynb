{
 "cells": [
  {
   "cell_type": "code",
   "execution_count": 8,
   "metadata": {},
   "outputs": [
    {
     "name": "stdout",
     "output_type": "stream",
     "text": [
      "[ 0.72727273  0.72727273  0.72727273  0.72727273  0.72727273  0.6969697\n",
      "  0.75        0.75        0.75        0.74193548]\n"
     ]
    }
   ],
   "source": [
    "import numpy as np\n",
    "import nibabel as nibabel\n",
    "import matplotlib.pyplot as plt\n",
    "from sklearn.decomposition import PCA\n",
    "from sklearn.ensemble import RandomForestClassifier\n",
    "from sklearn.cross_validation import cross_val_score\n",
    "\n",
    "import csv\n",
    "\n",
    "dir_images = \"/Users/catalinabustamante/Desktop/dicom/\"\n",
    "ifile  = open(\"/Users/catalinabustamante/Desktop/dicom/images.csv\")\n",
    "read = csv.reader(ifile)\n",
    "x_array = np.empty((364,0))\n",
    "y_vector = np.empty((0,1))\n",
    "\n",
    "\n",
    "for row in read :\n",
    "    anat_data = nibabel.load(\"/Users/catalinabustamante/Desktop/dicom/000\" + row[0] + \"/NCC_map_nt.nii.gz\").get_data()\n",
    "    X = anat_data.reshape((9919, 91))\n",
    "    pca = PCA(n_components=4)\n",
    "    pca.fit(X)\n",
    "    PCA_c = pca.components_.reshape(364,1)\n",
    "    x_array = np.hstack((x_array,PCA_c))\n",
    "    y_value = foo = 1 if row[3]== \"TRUE\" else 0 \n",
    "    y_vector = np.vstack((y_vector,y_value))\n",
    "    \n",
    "X = np.transpose(x_array)\n",
    "   \n",
    "clf = RandomForestClassifier(max_depth=2, random_state=0)\n",
    "clf.fit(X, y_vector.ravel())\n",
    "\n",
    "\n",
    "cv_scores = cross_val_score(clf, X, y_vector.ravel(), cv=10)\n",
    "\n",
    "print(cv_scores)"
   ]
  },
  {
   "cell_type": "code",
   "execution_count": null,
   "metadata": {
    "collapsed": true
   },
   "outputs": [],
   "source": []
  },
  {
   "cell_type": "code",
   "execution_count": null,
   "metadata": {
    "collapsed": true
   },
   "outputs": [],
   "source": []
  },
  {
   "cell_type": "code",
   "execution_count": null,
   "metadata": {
    "collapsed": true
   },
   "outputs": [],
   "source": []
  },
  {
   "cell_type": "code",
   "execution_count": null,
   "metadata": {
    "collapsed": true
   },
   "outputs": [],
   "source": []
  },
  {
   "cell_type": "code",
   "execution_count": null,
   "metadata": {
    "collapsed": true
   },
   "outputs": [],
   "source": []
  },
  {
   "cell_type": "code",
   "execution_count": null,
   "metadata": {
    "collapsed": true
   },
   "outputs": [],
   "source": []
  }
 ],
 "metadata": {
  "kernelspec": {
   "display_name": "Python 3",
   "language": "python",
   "name": "python3"
  },
  "language_info": {
   "codemirror_mode": {
    "name": "ipython",
    "version": 3
   },
   "file_extension": ".py",
   "mimetype": "text/x-python",
   "name": "python",
   "nbconvert_exporter": "python",
   "pygments_lexer": "ipython3",
   "version": "3.6.2"
  }
 },
 "nbformat": 4,
 "nbformat_minor": 2
}
